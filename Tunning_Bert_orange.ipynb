{
  "cells": [
    {
      "cell_type": "code",
      "execution_count": null,
      "metadata": {
        "_cell_guid": "b1076dfc-b9ad-4769-8c92-a6c4dae69d19",
        "_uuid": "8f2839f25d086af736a60e9eeb907d3b93b6e0e5",
        "execution": {
          "iopub.execute_input": "2025-02-09T07:15:51.692414Z",
          "iopub.status.busy": "2025-02-09T07:15:51.692145Z",
          "iopub.status.idle": "2025-02-09T07:15:51.698440Z",
          "shell.execute_reply": "2025-02-09T07:15:51.697490Z",
          "shell.execute_reply.started": "2025-02-09T07:15:51.692393Z"
        },
        "trusted": true,
        "id": "mcqzFrbsc1iE",
        "outputId": "7a5ff095-1c08-48b9-a12e-80e8611979ca"
      },
      "outputs": [
        {
          "name": "stdout",
          "output_type": "stream",
          "text": [
            "/kaggle/input/330k-arabic-sentiment-reviews/arabic_sentiment_reviews.csv\n"
          ]
        }
      ],
      "source": [
        "\n",
        "import numpy as np\n",
        "import pandas as pd\n",
        "\n",
        "import os\n",
        "for dirname, _, filenames in os.walk('/kaggle/input'):\n",
        "    for filename in filenames:\n",
        "        print(os.path.join(dirname, filename))"
      ]
    },
    {
      "cell_type": "code",
      "execution_count": null,
      "metadata": {
        "execution": {
          "iopub.execute_input": "2025-02-09T07:15:53.321201Z",
          "iopub.status.busy": "2025-02-09T07:15:53.320933Z",
          "iopub.status.idle": "2025-02-09T07:15:53.325020Z",
          "shell.execute_reply": "2025-02-09T07:15:53.324226Z",
          "shell.execute_reply.started": "2025-02-09T07:15:53.321178Z"
        },
        "trusted": true,
        "id": "_eYduhbZc1iJ"
      },
      "outputs": [],
      "source": [
        "from IPython.core.interactiveshell import InteractiveShell\n",
        "InteractiveShell.ast_node_interactivity = 'all'\n",
        "# to run more than output in the same cell\n",
        "pd.set_option('display.max_colwidth', None)\n"
      ]
    },
    {
      "cell_type": "code",
      "execution_count": null,
      "metadata": {
        "execution": {
          "iopub.execute_input": "2025-02-09T07:15:54.819886Z",
          "iopub.status.busy": "2025-02-09T07:15:54.819612Z",
          "iopub.status.idle": "2025-02-09T07:16:01.020232Z",
          "shell.execute_reply": "2025-02-09T07:16:01.019399Z",
          "shell.execute_reply.started": "2025-02-09T07:15:54.819856Z"
        },
        "trusted": true,
        "id": "XPJEKl8vc1iK",
        "outputId": "13be4cc7-d5f8-497e-b06c-8332250201dc"
      },
      "outputs": [
        {
          "data": {
            "text/html": [
              "<div>\n",
              "<style scoped>\n",
              "    .dataframe tbody tr th:only-of-type {\n",
              "        vertical-align: middle;\n",
              "    }\n",
              "\n",
              "    .dataframe tbody tr th {\n",
              "        vertical-align: top;\n",
              "    }\n",
              "\n",
              "    .dataframe thead th {\n",
              "        text-align: right;\n",
              "    }\n",
              "</style>\n",
              "<table border=\"1\" class=\"dataframe\">\n",
              "  <thead>\n",
              "    <tr style=\"text-align: right;\">\n",
              "      <th></th>\n",
              "      <th>label</th>\n",
              "      <th>content</th>\n",
              "    </tr>\n",
              "  </thead>\n",
              "  <tbody>\n",
              "    <tr>\n",
              "      <th>0</th>\n",
              "      <td>1</td>\n",
              "      <td>النعال المريحة: أرتدي هذه النعال كثيرًا!فهي دافئة ومريحة وبأسعار معقولة لجودة رائعة.زوجي وأنا على حد سواء لدينا زوج ونحن نحبهم!</td>\n",
              "    </tr>\n",
              "    <tr>\n",
              "      <th>1</th>\n",
              "      <td>1</td>\n",
              "      <td>منتج جميل ، خدمة سيئة: لقد اشتريت زوجًا من النعال الباو الدب.باتباع إرشادات وصف المنتج ، ارتفعت حجمًا للتناسب.عندما وصلوا ، كانوا لطيفين حقًا وأحبوا.كانت كبيرة جدا.حاولت إعادة ترتيب ولم تكن متوفرة.حاولت الاتصال بـ Claussette عبر الهاتف وقيل لها البريد الإلكتروني.لقد أرسلت عبر البريد الإلكتروني معضلي وانتظرت أسبوعًا ، ولم ترد ، لقد أرسلت رسالتي الإلكترونية مرة أخرى ، قبل ثلاثة أيام.لا يوجد استجابة.أريد فقط استبدال العنصر ، أو الحصول على إجابة.</td>\n",
              "    </tr>\n",
              "    <tr>\n",
              "      <th>2</th>\n",
              "      <td>1</td>\n",
              "      <td>جيد للأشياء الصغيرة: هذا يعمل بشكل جيد لالتقاط قطع صغيرة من المجوهرات ، ولكن الذهاب ببطء.إنه مفيد ، لكن المغناطيس ليس قويًا جدًا.</td>\n",
              "    </tr>\n",
              "    <tr>\n",
              "      <th>3</th>\n",
              "      <td>0</td>\n",
              "      <td>واهية للغاية: flimsyif للغاية ، فأنت تشتريه ، كن حذرًا جدًا للغاية مع إطالة وتقصيره ، وأي استخدام على الإطلاق على الإطلاق.(بلا ​​مزاح)</td>\n",
              "    </tr>\n",
              "    <tr>\n",
              "      <th>4</th>\n",
              "      <td>1</td>\n",
              "      <td>Pop for Girls and Girly Boys ، والأشخاص الذين يحبون الضحك: عليك فقط أن تبتسم عندما تستمع إلى Book of Love ، وهم فرقة كلها هناك ، وهم ممتعون عندما لا تأخذهم إلى جادة.ليس عليك أن تكون مثليًا للاستمتاع بموسيقى ولكنها ستساعد ، أو على الأقل ودية.شرائه فقط للابتسام ، وشعر بالدوار والغموض في الداخل.</td>\n",
              "    </tr>\n",
              "  </tbody>\n",
              "</table>\n",
              "</div>"
            ],
            "text/plain": [
              "   label  \\\n",
              "0      1   \n",
              "1      1   \n",
              "2      1   \n",
              "3      0   \n",
              "4      1   \n",
              "\n",
              "                                                                                                                                                                                                                                                                                                                                                                                                                                                          content  \n",
              "0                                                                                                                                                                                                                                                                                                                                 النعال المريحة: أرتدي هذه النعال كثيرًا!فهي دافئة ومريحة وبأسعار معقولة لجودة رائعة.زوجي وأنا على حد سواء لدينا زوج ونحن نحبهم!  \n",
              "1  منتج جميل ، خدمة سيئة: لقد اشتريت زوجًا من النعال الباو الدب.باتباع إرشادات وصف المنتج ، ارتفعت حجمًا للتناسب.عندما وصلوا ، كانوا لطيفين حقًا وأحبوا.كانت كبيرة جدا.حاولت إعادة ترتيب ولم تكن متوفرة.حاولت الاتصال بـ Claussette عبر الهاتف وقيل لها البريد الإلكتروني.لقد أرسلت عبر البريد الإلكتروني معضلي وانتظرت أسبوعًا ، ولم ترد ، لقد أرسلت رسالتي الإلكترونية مرة أخرى ، قبل ثلاثة أيام.لا يوجد استجابة.أريد فقط استبدال العنصر ، أو الحصول على إجابة.  \n",
              "2                                                                                                                                                                                                                                                                                                                               جيد للأشياء الصغيرة: هذا يعمل بشكل جيد لالتقاط قطع صغيرة من المجوهرات ، ولكن الذهاب ببطء.إنه مفيد ، لكن المغناطيس ليس قويًا جدًا.  \n",
              "3                                                                                                                                                                                                                                                                                                                          واهية للغاية: flimsyif للغاية ، فأنت تشتريه ، كن حذرًا جدًا للغاية مع إطالة وتقصيره ، وأي استخدام على الإطلاق على الإطلاق.(بلا ​​مزاح)  \n",
              "4                                                                                                                                                           Pop for Girls and Girly Boys ، والأشخاص الذين يحبون الضحك: عليك فقط أن تبتسم عندما تستمع إلى Book of Love ، وهم فرقة كلها هناك ، وهم ممتعون عندما لا تأخذهم إلى جادة.ليس عليك أن تكون مثليًا للاستمتاع بموسيقى ولكنها ستساعد ، أو على الأقل ودية.شرائه فقط للابتسام ، وشعر بالدوار والغموض في الداخل.  "
            ]
          },
          "execution_count": 4,
          "metadata": {},
          "output_type": "execute_result"
        }
      ],
      "source": [
        "df = pd.read_csv(os.path.join(dirname, filename))\n",
        "df.head()"
      ]
    },
    {
      "cell_type": "markdown",
      "metadata": {
        "id": "rp_gjnxEc1iL"
      },
      "source": [
        "## This cell removes non-Arabic characters from the text data in the content column and creates a new column cleaned_content with the cleaned text."
      ]
    },
    {
      "cell_type": "code",
      "execution_count": null,
      "metadata": {
        "execution": {
          "iopub.execute_input": "2025-02-09T07:16:01.021745Z",
          "iopub.status.busy": "2025-02-09T07:16:01.021480Z",
          "iopub.status.idle": "2025-02-09T07:16:06.443512Z",
          "shell.execute_reply": "2025-02-09T07:16:06.442570Z",
          "shell.execute_reply.started": "2025-02-09T07:16:01.021725Z"
        },
        "trusted": true,
        "id": "lJzZfOcwc1iM"
      },
      "outputs": [],
      "source": [
        "import re\n",
        "arabic_pattern = re.compile(r'[^أ-يء \\s]+')\n",
        "def remove_non_arabic(text):\n",
        "    return arabic_pattern.sub('', text)\n",
        "\n",
        "df['content'] = df['content'].apply(lambda str : str.replace(\".\", \" \").strip())\n",
        "df['cleaned_content'] = df['content'].apply(remove_non_arabic)"
      ]
    },
    {
      "cell_type": "markdown",
      "metadata": {
        "id": "BCTpiw33c1iN"
      },
      "source": [
        "## This cell balances the dataset by ensuring an equal number of samples for each class. It then shuffles the dataset to avoid any bias and prints the new class ((((distribution))))."
      ]
    },
    {
      "cell_type": "code",
      "execution_count": null,
      "metadata": {
        "collapsed": true,
        "execution": {
          "iopub.execute_input": "2025-02-09T07:16:06.445056Z",
          "iopub.status.busy": "2025-02-09T07:16:06.444777Z",
          "iopub.status.idle": "2025-02-09T07:16:06.757847Z",
          "shell.execute_reply": "2025-02-09T07:16:06.756932Z",
          "shell.execute_reply.started": "2025-02-09T07:16:06.445020Z"
        },
        "jupyter": {
          "outputs_hidden": true
        },
        "trusted": true,
        "id": "vgFR9cJkc1iN",
        "outputId": "46ed2dde-99a5-434d-b423-b91487e6bedd"
      },
      "outputs": [
        {
          "name": "stdout",
          "output_type": "stream",
          "text": [
            "Original Class Distribution:\n",
            " label\n",
            "1    166853\n",
            "0    163147\n",
            "Name: count, dtype: int64\n",
            "Reduced Class Distribution:\n",
            " label\n",
            "0    82500\n",
            "1    82500\n",
            "Name: count, dtype: int64\n"
          ]
        },
        {
          "name": "stderr",
          "output_type": "stream",
          "text": [
            "<ipython-input-6-b319e797ff44>:12: DeprecationWarning: DataFrameGroupBy.apply operated on the grouping columns. This behavior is deprecated, and in a future version of pandas the grouping columns will be excluded from the operation. Either pass `include_groups=False` to exclude the groupings or explicitly select the grouping columns after groupby to silence this warning.\n",
            "  df_balanced = df.groupby(\"label\").apply(lambda x: x.sample(n=samples_per_class, random_state=42)).reset_index(drop=True)\n"
          ]
        },
        {
          "data": {
            "text/plain": [
              "label    165000.0\n",
              "Name: count, dtype: float64"
            ]
          },
          "execution_count": 6,
          "metadata": {},
          "output_type": "execute_result"
        },
        {
          "data": {
            "text/html": [
              "<div>\n",
              "<style scoped>\n",
              "    .dataframe tbody tr th:only-of-type {\n",
              "        vertical-align: middle;\n",
              "    }\n",
              "\n",
              "    .dataframe tbody tr th {\n",
              "        vertical-align: top;\n",
              "    }\n",
              "\n",
              "    .dataframe thead th {\n",
              "        text-align: right;\n",
              "    }\n",
              "</style>\n",
              "<table border=\"1\" class=\"dataframe\">\n",
              "  <thead>\n",
              "    <tr style=\"text-align: right;\">\n",
              "      <th></th>\n",
              "      <th>label</th>\n",
              "      <th>content</th>\n",
              "      <th>cleaned_content</th>\n",
              "    </tr>\n",
              "  </thead>\n",
              "  <tbody>\n",
              "    <tr>\n",
              "      <th>0</th>\n",
              "      <td>0</td>\n",
              "      <td>ما يسمى 2 Pack Louis de Funes: إحدى الحزم تحتوي على أفلام تحتوي على القليل جدًا من Louis de Funes ، ويتصرف في حالة من القلقات الصغيرة جدًا كلتا الحزمتين باللغة الفرنسية تمامًا فقط بدون ترجمة لأي لغة أخرى على الإطلاق بخيبة أمل كبيرة في حين أن كل أقراص DVD أخرى لديها ترجمات نصح بالبقاء واضحًا ما لم يكن المرء يجيد الفرنسية</td>\n",
              "      <td>ما يسمى      إحدى الحزم تحتوي على أفلام تحتوي على القليل جدا من     ويتصرف في حالة من القلقات الصغيرة جدا كلتا الحزمتين باللغة الفرنسية تماما فقط بدون ترجمة لأي لغة أخرى على الإطلاق بخيبة أمل كبيرة في حين أن كل أقراص  أخرى لديها ترجمات نصح بالبقاء واضحا ما لم يكن المرء يجيد الفرنسية</td>\n",
              "    </tr>\n",
              "    <tr>\n",
              "      <th>1</th>\n",
              "      <td>0</td>\n",
              "      <td>كان يمكن أن يكون مضحكا ، ولكن لا    : التمثيل الرهيب ، وكوبا هي الفائز في الأكاديمية السابقة؟هذا أمر مفرط في الإفراط في الإحراج ، ناهيك عن الإحراج - وهذا أمر جيد بالنسبة لنماذج Feautering ، ولكن بالنسبة للجهات الفاعلة الجادة مثل كوبا ، فهذا ليس كذلك كان من الممكن أن يكون اثنان من جنسين مختلفين يصطدمان بمثليي الجنس ، لكن التمثيل السيئ الذي تليه مؤامرة غبية لقصة يجعلها واحدة من أقل الكوميديا المضحكة التي رأيتها على الإطلاق آسف كوبا</td>\n",
              "      <td>كان يمكن أن يكون مضحكا  ولكن لا     التمثيل الرهيب  وكوبا هي الفائز في الأكاديمية السابقةهذا أمر مفرط في الإفراط في الإحراج  ناهيك عن الإحراج  وهذا أمر جيد بالنسبة لنماذج   ولكن بالنسبة للجهات الفاعلة الجادة مثل كوبا  فهذا ليس كذلك كان من الممكن أن يكون اثنان من جنسين مختلفين يصطدمان بمثليي الجنس  لكن التمثيل السيئ الذي تليه مؤامرة غبية لقصة يجعلها واحدة من أقل الكوميديا المضحكة التي رأيتها على الإطلاق سف كوبا</td>\n",
              "    </tr>\n",
              "    <tr>\n",
              "      <th>2</th>\n",
              "      <td>0</td>\n",
              "      <td>مؤامرة متقطعة مع شخصيات غير أصلية: قصة مخيبة للآمال عن أطفال داميا ومآثرهم \"العظيمة\" تحاول القصة تغطية أكبر قدر ممكن من الوقت والعمل في عدد قليل من الكلمات قدر الإمكان ، مما يخلق مؤامرة مفككة ورقيقة من الصعب بعض الشيء متابعة هناك الكثير من الثغرات ؛ليس أحد أفضل أعمال ماكافري وكان موضوع التمييز المضاد للعنصري متعبًا وملبًا ، وهو فاكس باهت لسلسلة Ender الخاصة بـ Orson Scott Card التي هي أفضل بكثير وأكثر استفزازية سيئة للغاية كان لديها إمكانات</td>\n",
              "      <td>مؤامرة متقطعة مع شخصيات غير أصلية قصة مخيبة للمال عن أطفال داميا ومثرهم العظيمة تحاول القصة تغطية أكبر قدر ممكن من الوقت والعمل في عدد قليل من الكلمات قدر الإمكان  مما يخلق مؤامرة مفككة ورقيقة من الصعب بعض الشيء متابعة هناك الكثير من الثغرات ليس أحد أفضل أعمال ماكافري وكان موضوع التمييز المضاد للعنصري متعبا وملبا  وهو فاكس باهت لسلسلة  الخاصة بـ    التي هي أفضل بكثير وأكثر استفزازية سيئة للغاية كان لديها إمكانات</td>\n",
              "    </tr>\n",
              "    <tr>\n",
              "      <th>3</th>\n",
              "      <td>1</td>\n",
              "      <td>ليس كل هذا سيئًا: هذا هو أول سجل أملكه على الإطلاق - هدية عطلة عندما كان عمري 7 سنوات أفترض أن هذا هو أول تسجيل للرجل هو أول تسجيل للرجل للصرخ بصوت عالٍ يعود تاريخه إلى عام 1972 ، لذلك إذا بدا الأمر غير تقليدي بعض الشيء ، فمن المحتمل أن يكون ذلك أحب أن أستمع إلى هذا كأساس لمعرفة مدى وصوله ، وكيف نضج على مدار 30 عامًا (قليلاً جدًا)وجود كذلك إنه جزء من تاريخه - ويصيبه إنها بدايته ومع ذلك ، فإنه ليس عملاً رائعًا ، ولا من هو اليوم بالنسبة إلى غير ، فإن هذا سيبدو قديمًا ، قديمًا ، مبتذلاً</td>\n",
              "      <td>ليس كل هذا سيئا هذا هو أول سجل أملكه على الإطلاق  هدية عطلة عندما كان عمري  سنوات أفترض أن هذا هو أول تسجيل للرجل هو أول تسجيل للرجل للصرخ بصوت عال يعود تاريخه إلى عام   لذلك إذا بدا الأمر غير تقليدي بعض الشيء  فمن المحتمل أن يكون ذلك أحب أن أستمع إلى هذا كأساس لمعرفة مدى وصوله  وكيف نضج على مدار  عاما قليلا جداوجود كذلك إنه جزء من تاريخه  ويصيبه إنها بدايته ومع ذلك  فإنه ليس عملا رائعا  ولا من هو اليوم بالنسبة إلى غير  فإن هذا سيبدو قديما  قديما  مبتذلا</td>\n",
              "    </tr>\n",
              "    <tr>\n",
              "      <th>4</th>\n",
              "      <td>1</td>\n",
              "      <td>حذار الفريسيون!: طبقة من الطبقة ، هذا الكتاب يرفع كل شيء يجعل المرء \"طيبة\": الاكتفاء الذاتي ، وبرد الذات ، والنفاق ، والشرعية ، والكمال ، والروح القضائية ، والغطرسة ، والأنانية ، والفخر ما تبقى في النهاية هو الروح الحقيقية للحياة المسيحية والخدمة: الاعتماد التام على نعمة الله ، والامتنان العميق والمستمر لخلاصه ، وتجدد الاحترام والتعاطف مع النفوس الأخرى المتعثرة ، والتواضع ، والصدق ، والكرم ، والصبر ، والفرح ،دهشة هذا الكتاب مكتوب بشكل ممتاز ويظهر نظرة عميقة على الأمثال والتعاليم الأخرى ليسوع ، والتي تم توجيه الكثير منها إلى الفريسيين في يومه سيكون كل من يقرأ هذا الكتاب أفضل بشكل أساسي-حتى الفريسي المتمرد حقًا الذي قد يبدأ الكتاب معتقدين أنه مكتوب عن شخص آخر</td>\n",
              "      <td>حذار الفريسيون طبقة من الطبقة  هذا الكتاب يرفع كل شيء يجعل المرء طيبة الاكتفاء الذاتي  وبرد الذات  والنفاق  والشرعية  والكمال  والروح القضائية  والغطرسة  والأنانية  والفخر ما تبقى في النهاية هو الروح الحقيقية للحياة المسيحية والخدمة الاعتماد التام على نعمة الله  والامتنان العميق والمستمر لخلاصه  وتجدد الاحترام والتعاطف مع النفوس الأخرى المتعثرة  والتواضع  والصدق  والكرم  والصبر  والفرح دهشة هذا الكتاب مكتوب بشكل ممتاز ويظهر نظرة عميقة على الأمثال والتعاليم الأخرى ليسوع  والتي تم توجيه الكثير منها إلى الفريسيين في يومه سيكون كل من يقرأ هذا الكتاب أفضل بشكل أساسيحتى الفريسي المتمرد حقا الذي قد يبدأ الكتاب معتقدين أنه مكتوب عن شخص خر</td>\n",
              "    </tr>\n",
              "  </tbody>\n",
              "</table>\n",
              "</div>"
            ],
            "text/plain": [
              "   label  \\\n",
              "0      0   \n",
              "1      0   \n",
              "2      0   \n",
              "3      1   \n",
              "4      1   \n",
              "\n",
              "                                                                                                                                                                                                                                                                                                                                                                                                                                                                                                                                                                                                                                                                                     content  \\\n",
              "0                                                                                                                                                                                                                                                                                                                                                          ما يسمى 2 Pack Louis de Funes: إحدى الحزم تحتوي على أفلام تحتوي على القليل جدًا من Louis de Funes ، ويتصرف في حالة من القلقات الصغيرة جدًا كلتا الحزمتين باللغة الفرنسية تمامًا فقط بدون ترجمة لأي لغة أخرى على الإطلاق بخيبة أمل كبيرة في حين أن كل أقراص DVD أخرى لديها ترجمات نصح بالبقاء واضحًا ما لم يكن المرء يجيد الفرنسية   \n",
              "1                                                                                                                                                                                                                                          كان يمكن أن يكون مضحكا ، ولكن لا    : التمثيل الرهيب ، وكوبا هي الفائز في الأكاديمية السابقة؟هذا أمر مفرط في الإفراط في الإحراج ، ناهيك عن الإحراج - وهذا أمر جيد بالنسبة لنماذج Feautering ، ولكن بالنسبة للجهات الفاعلة الجادة مثل كوبا ، فهذا ليس كذلك كان من الممكن أن يكون اثنان من جنسين مختلفين يصطدمان بمثليي الجنس ، لكن التمثيل السيئ الذي تليه مؤامرة غبية لقصة يجعلها واحدة من أقل الكوميديا المضحكة التي رأيتها على الإطلاق آسف كوبا   \n",
              "2                                                                                                                                                                                                                               مؤامرة متقطعة مع شخصيات غير أصلية: قصة مخيبة للآمال عن أطفال داميا ومآثرهم \"العظيمة\" تحاول القصة تغطية أكبر قدر ممكن من الوقت والعمل في عدد قليل من الكلمات قدر الإمكان ، مما يخلق مؤامرة مفككة ورقيقة من الصعب بعض الشيء متابعة هناك الكثير من الثغرات ؛ليس أحد أفضل أعمال ماكافري وكان موضوع التمييز المضاد للعنصري متعبًا وملبًا ، وهو فاكس باهت لسلسلة Ender الخاصة بـ Orson Scott Card التي هي أفضل بكثير وأكثر استفزازية سيئة للغاية كان لديها إمكانات   \n",
              "3                                                                                                                                                                                   ليس كل هذا سيئًا: هذا هو أول سجل أملكه على الإطلاق - هدية عطلة عندما كان عمري 7 سنوات أفترض أن هذا هو أول تسجيل للرجل هو أول تسجيل للرجل للصرخ بصوت عالٍ يعود تاريخه إلى عام 1972 ، لذلك إذا بدا الأمر غير تقليدي بعض الشيء ، فمن المحتمل أن يكون ذلك أحب أن أستمع إلى هذا كأساس لمعرفة مدى وصوله ، وكيف نضج على مدار 30 عامًا (قليلاً جدًا)وجود كذلك إنه جزء من تاريخه - ويصيبه إنها بدايته ومع ذلك ، فإنه ليس عملاً رائعًا ، ولا من هو اليوم بالنسبة إلى غير ، فإن هذا سيبدو قديمًا ، قديمًا ، مبتذلاً   \n",
              "4  حذار الفريسيون!: طبقة من الطبقة ، هذا الكتاب يرفع كل شيء يجعل المرء \"طيبة\": الاكتفاء الذاتي ، وبرد الذات ، والنفاق ، والشرعية ، والكمال ، والروح القضائية ، والغطرسة ، والأنانية ، والفخر ما تبقى في النهاية هو الروح الحقيقية للحياة المسيحية والخدمة: الاعتماد التام على نعمة الله ، والامتنان العميق والمستمر لخلاصه ، وتجدد الاحترام والتعاطف مع النفوس الأخرى المتعثرة ، والتواضع ، والصدق ، والكرم ، والصبر ، والفرح ،دهشة هذا الكتاب مكتوب بشكل ممتاز ويظهر نظرة عميقة على الأمثال والتعاليم الأخرى ليسوع ، والتي تم توجيه الكثير منها إلى الفريسيين في يومه سيكون كل من يقرأ هذا الكتاب أفضل بشكل أساسي-حتى الفريسي المتمرد حقًا الذي قد يبدأ الكتاب معتقدين أنه مكتوب عن شخص آخر   \n",
              "\n",
              "                                                                                                                                                                                                                                                                                                                                                                                                                                                                                                                                                                                                                                                  cleaned_content  \n",
              "0                                                                                                                                                                                                                                                                                                                                                                     ما يسمى      إحدى الحزم تحتوي على أفلام تحتوي على القليل جدا من     ويتصرف في حالة من القلقات الصغيرة جدا كلتا الحزمتين باللغة الفرنسية تماما فقط بدون ترجمة لأي لغة أخرى على الإطلاق بخيبة أمل كبيرة في حين أن كل أقراص  أخرى لديها ترجمات نصح بالبقاء واضحا ما لم يكن المرء يجيد الفرنسية  \n",
              "1                                                                                                                                                                                                                                   كان يمكن أن يكون مضحكا  ولكن لا     التمثيل الرهيب  وكوبا هي الفائز في الأكاديمية السابقةهذا أمر مفرط في الإفراط في الإحراج  ناهيك عن الإحراج  وهذا أمر جيد بالنسبة لنماذج   ولكن بالنسبة للجهات الفاعلة الجادة مثل كوبا  فهذا ليس كذلك كان من الممكن أن يكون اثنان من جنسين مختلفين يصطدمان بمثليي الجنس  لكن التمثيل السيئ الذي تليه مؤامرة غبية لقصة يجعلها واحدة من أقل الكوميديا المضحكة التي رأيتها على الإطلاق سف كوبا  \n",
              "2                                                                                                                                                                                                                                 مؤامرة متقطعة مع شخصيات غير أصلية قصة مخيبة للمال عن أطفال داميا ومثرهم العظيمة تحاول القصة تغطية أكبر قدر ممكن من الوقت والعمل في عدد قليل من الكلمات قدر الإمكان  مما يخلق مؤامرة مفككة ورقيقة من الصعب بعض الشيء متابعة هناك الكثير من الثغرات ليس أحد أفضل أعمال ماكافري وكان موضوع التمييز المضاد للعنصري متعبا وملبا  وهو فاكس باهت لسلسلة  الخاصة بـ    التي هي أفضل بكثير وأكثر استفزازية سيئة للغاية كان لديها إمكانات  \n",
              "3                                                                                                                                                                                      ليس كل هذا سيئا هذا هو أول سجل أملكه على الإطلاق  هدية عطلة عندما كان عمري  سنوات أفترض أن هذا هو أول تسجيل للرجل هو أول تسجيل للرجل للصرخ بصوت عال يعود تاريخه إلى عام   لذلك إذا بدا الأمر غير تقليدي بعض الشيء  فمن المحتمل أن يكون ذلك أحب أن أستمع إلى هذا كأساس لمعرفة مدى وصوله  وكيف نضج على مدار  عاما قليلا جداوجود كذلك إنه جزء من تاريخه  ويصيبه إنها بدايته ومع ذلك  فإنه ليس عملا رائعا  ولا من هو اليوم بالنسبة إلى غير  فإن هذا سيبدو قديما  قديما  مبتذلا  \n",
              "4  حذار الفريسيون طبقة من الطبقة  هذا الكتاب يرفع كل شيء يجعل المرء طيبة الاكتفاء الذاتي  وبرد الذات  والنفاق  والشرعية  والكمال  والروح القضائية  والغطرسة  والأنانية  والفخر ما تبقى في النهاية هو الروح الحقيقية للحياة المسيحية والخدمة الاعتماد التام على نعمة الله  والامتنان العميق والمستمر لخلاصه  وتجدد الاحترام والتعاطف مع النفوس الأخرى المتعثرة  والتواضع  والصدق  والكرم  والصبر  والفرح دهشة هذا الكتاب مكتوب بشكل ممتاز ويظهر نظرة عميقة على الأمثال والتعاليم الأخرى ليسوع  والتي تم توجيه الكثير منها إلى الفريسيين في يومه سيكون كل من يقرأ هذا الكتاب أفضل بشكل أساسيحتى الفريسي المتمرد حقا الذي قد يبدأ الكتاب معتقدين أنه مكتوب عن شخص خر  "
            ]
          },
          "execution_count": 6,
          "metadata": {},
          "output_type": "execute_result"
        }
      ],
      "source": [
        "# Get class counts\n",
        "class_counts = df[\"label\"].value_counts()\n",
        "print(\"Original Class Distribution:\\n\", class_counts)\n",
        "\n",
        "# Calculate half the dataset size\n",
        "total_size = len(df) // 2\n",
        "\n",
        "# Determine the maximum number of samples per class while keeping balance\n",
        "samples_per_class = total_size // len(class_counts)\n",
        "\n",
        "# Sample from each class equally\n",
        "df_balanced = df.groupby(\"label\").apply(lambda x: x.sample(n=samples_per_class, random_state=42)).reset_index(drop=True)\n",
        "\n",
        "# Shuffle the dataset to avoid ordering bias\n",
        "df_balanced = df_balanced.sample(frac=1, random_state=42).reset_index(drop=True)\n",
        "\n",
        "# Print new class distribution\n",
        "print(\"Reduced Class Distribution:\\n\", df_balanced[\"label\"].value_counts())\n",
        "df = df_balanced\n",
        "df.describe().iloc[0]\n",
        "df.head()"
      ]
    },
    {
      "cell_type": "markdown",
      "metadata": {
        "id": "bFvSkNm2c1iO"
      },
      "source": [
        "## This cell visualizes the class distribution after balancing using a count plot.\n",
        "\n"
      ]
    },
    {
      "cell_type": "code",
      "execution_count": null,
      "metadata": {
        "execution": {
          "iopub.execute_input": "2025-02-09T08:15:01.999916Z",
          "iopub.status.busy": "2025-02-09T08:15:01.999581Z",
          "iopub.status.idle": "2025-02-09T08:15:02.416268Z",
          "shell.execute_reply": "2025-02-09T08:15:02.415405Z",
          "shell.execute_reply.started": "2025-02-09T08:15:01.999892Z"
        },
        "trusted": true,
        "id": "Guu_IHvnc1iP",
        "outputId": "666e1f9f-76a1-4b94-9eb6-8baddb94f2c0"
      },
      "outputs": [
        {
          "data": {
            "text/plain": [
              "<Figure size 800x500 with 0 Axes>"
            ]
          },
          "execution_count": 18,
          "metadata": {},
          "output_type": "execute_result"
        },
        {
          "data": {
            "text/plain": [
              "<Axes: xlabel='label', ylabel='count'>"
            ]
          },
          "execution_count": 18,
          "metadata": {},
          "output_type": "execute_result"
        },
        {
          "data": {
            "text/plain": [
              "Text(0.5, 0, 'Class Label')"
            ]
          },
          "execution_count": 18,
          "metadata": {},
          "output_type": "execute_result"
        },
        {
          "data": {
            "text/plain": [
              "Text(0, 0.5, 'Count')"
            ]
          },
          "execution_count": 18,
          "metadata": {},
          "output_type": "execute_result"
        },
        {
          "data": {
            "text/plain": [
              "Text(0.5, 1.0, 'Class Distribution After Balancing')"
            ]
          },
          "execution_count": 18,
          "metadata": {},
          "output_type": "execute_result"
        },
        {
          "data": {
            "image/png": "[encoded data removed]",
            "text/plain": [
              "<Figure size 800x500 with 1 Axes>"
            ]
          },
          "metadata": {},
          "output_type": "display_data"
        }
      ],
      "source": [
        "import matplotlib.pyplot as plt\n",
        "import seaborn as sns\n",
        "\n",
        "# Plot class distribution\n",
        "plt.figure(figsize=(8, 5))\n",
        "sns.countplot(x=df[\"label\"], palette=\"viridis\")\n",
        "\n",
        "# Labels and title\n",
        "plt.xlabel(\"Class Label\")\n",
        "plt.ylabel(\"Count\")\n",
        "plt.title(\"Class Distribution After Balancing\")\n",
        "\n",
        "# Show the plot\n",
        "plt.show()"
      ]
    },
    {
      "cell_type": "markdown",
      "metadata": {
        "id": "q6s1_FNAc1iP"
      },
      "source": [
        "## This cell sets up the environment for model training by importing necessary libraries and disabling tokenizer parallelism to prevent hanging."
      ]
    },
    {
      "cell_type": "code",
      "execution_count": null,
      "metadata": {
        "execution": {
          "iopub.execute_input": "2025-02-09T07:16:18.878736Z",
          "iopub.status.busy": "2025-02-09T07:16:18.878423Z",
          "iopub.status.idle": "2025-02-09T07:16:40.679474Z",
          "shell.execute_reply": "2025-02-09T07:16:40.678589Z",
          "shell.execute_reply.started": "2025-02-09T07:16:18.878707Z"
        },
        "trusted": true,
        "id": "s-vp-3W6c1iQ"
      },
      "outputs": [],
      "source": [
        "import torch\n",
        "from torch.utils.data import DataLoader, Dataset\n",
        "from transformers import (AutoModel, AutoTokenizer, Trainer, TrainingArguments,\n",
        "                          BertForSequenceClassification, DataCollatorWithPadding)\n",
        "import os\n",
        "from datasets import Dataset\n",
        "\n",
        "# Disable tokenizer parallelism to prevent hanging\n",
        "os.environ[\"TOKENIZERS_PARALLELISM\"] = \"false\"\n",
        "os.environ[\"WANDB_DISABLED\"] = \"true\""
      ]
    },
    {
      "cell_type": "markdown",
      "metadata": {
        "id": "rEfVEXRBc1iQ"
      },
      "source": [
        "##  This cell loads the tokenizer and model, defines a preprocessing function, converts the DataFrame to a Dataset, splits it into training and testing sets, tokenizes the dataset, and sets up a data collator for padding."
      ]
    },
    {
      "cell_type": "code",
      "execution_count": null,
      "metadata": {
        "execution": {
          "iopub.execute_input": "2025-02-09T07:16:43.962534Z",
          "iopub.status.busy": "2025-02-09T07:16:43.961866Z",
          "iopub.status.idle": "2025-02-09T07:17:45.599268Z",
          "shell.execute_reply": "2025-02-09T07:17:45.598579Z",
          "shell.execute_reply.started": "2025-02-09T07:16:43.962500Z"
        },
        "trusted": true,
        "colab": {
          "referenced_widgets": [
            "c3401627723a4e03bdc0311a3f652851",
            "291add35c4b64b52aef7c97a549d790a",
            "f27f526a70854fda9725c69033a9e25b",
            "52c2a0d9c5ca4a87af8cf5fb1430fb5a",
            "89e0a0a3e0da4b3d9e1495dc58da3be4",
            "7cac1a4fb40c4d42b482b4eb84c97f3f",
            "c26eed3fda934f0eacb5a3c73ea0390d"
          ]
        },
        "id": "mSHxDyZMc1iQ",
        "outputId": "0695f679-6753-439c-9658-76ac1e1304e2"
      },
      "outputs": [
        {
          "data": {
            "application/vnd.jupyter.widget-view+json": {
              "model_id": "c3401627723a4e03bdc0311a3f652851",
              "version_major": 2,
              "version_minor": 0
            },
            "text/plain": [
              "tokenizer_config.json:   0%|          | 0.00/62.0 [00:00<?, ?B/s]"
            ]
          },
          "metadata": {},
          "output_type": "display_data"
        },
        {
          "data": {
            "application/vnd.jupyter.widget-view+json": {
              "model_id": "291add35c4b64b52aef7c97a549d790a",
              "version_major": 2,
              "version_minor": 0
            },
            "text/plain": [
              "config.json:   0%|          | 0.00/491 [00:00<?, ?B/s]"
            ]
          },
          "metadata": {},
          "output_type": "display_data"
        },
        {
          "data": {
            "application/vnd.jupyter.widget-view+json": {
              "model_id": "f27f526a70854fda9725c69033a9e25b",
              "version_major": 2,
              "version_minor": 0
            },
            "text/plain": [
              "vocab.txt:   0%|          | 0.00/334k [00:00<?, ?B/s]"
            ]
          },
          "metadata": {},
          "output_type": "display_data"
        },
        {
          "data": {
            "application/vnd.jupyter.widget-view+json": {
              "model_id": "52c2a0d9c5ca4a87af8cf5fb1430fb5a",
              "version_major": 2,
              "version_minor": 0
            },
            "text/plain": [
              "special_tokens_map.json:   0%|          | 0.00/112 [00:00<?, ?B/s]"
            ]
          },
          "metadata": {},
          "output_type": "display_data"
        },
        {
          "data": {
            "application/vnd.jupyter.widget-view+json": {
              "model_id": "89e0a0a3e0da4b3d9e1495dc58da3be4",
              "version_major": 2,
              "version_minor": 0
            },
            "text/plain": [
              "model.safetensors:   0%|          | 0.00/445M [00:00<?, ?B/s]"
            ]
          },
          "metadata": {},
          "output_type": "display_data"
        },
        {
          "name": "stderr",
          "output_type": "stream",
          "text": [
            "Some weights of BertForSequenceClassification were not initialized from the model checkpoint at asafaya/bert-base-arabic and are newly initialized: ['classifier.bias', 'classifier.weight']\n",
            "You should probably TRAIN this model on a down-stream task to be able to use it for predictions and inference.\n"
          ]
        },
        {
          "data": {
            "application/vnd.jupyter.widget-view+json": {
              "model_id": "7cac1a4fb40c4d42b482b4eb84c97f3f",
              "version_major": 2,
              "version_minor": 0
            },
            "text/plain": [
              "Map:   0%|          | 0/115500 [00:00<?, ? examples/s]"
            ]
          },
          "metadata": {},
          "output_type": "display_data"
        },
        {
          "data": {
            "application/vnd.jupyter.widget-view+json": {
              "model_id": "c26eed3fda934f0eacb5a3c73ea0390d",
              "version_major": 2,
              "version_minor": 0
            },
            "text/plain": [
              "Map:   0%|          | 0/49500 [00:00<?, ? examples/s]"
            ]
          },
          "metadata": {},
          "output_type": "display_data"
        }
      ],
      "source": [
        "# Load the tokenizer and model\n",
        "tokenizer = AutoTokenizer.from_pretrained(\"asafaya/bert-base-arabic\")\n",
        "sequence_clf_model = BertForSequenceClassification.from_pretrained(\"asafaya/bert-base-arabic\", num_labels=2)\n",
        "\n",
        "# Define max length\n",
        "max_length = 300\n",
        "\n",
        "def preprocess_function(examples):\n",
        "    tokenized_inputs = tokenizer(examples[\"cleaned_content\"], truncation=True, max_length=max_length)\n",
        "    tokenized_inputs[\"labels\"] = examples[\"label\"]  # Ensure labels are included\n",
        "    return tokenized_inputs\n",
        "\n",
        "# Convert dataframe to Dataset\n",
        "classification_dataset = Dataset.from_pandas(df)\n",
        "\n",
        "# Split dataset\n",
        "classification_dataset = classification_dataset.train_test_split(test_size=0.3)\n",
        "\n",
        "# Tokenize dataset\n",
        "seq_clf_tokenized = classification_dataset.map(preprocess_function, batched=True, remove_columns=[\"cleaned_content\", \"label\"])\n",
        "\n",
        "data_collator = DataCollatorWithPadding(tokenizer=tokenizer)\n"
      ]
    },
    {
      "cell_type": "code",
      "execution_count": null,
      "metadata": {
        "execution": {
          "iopub.execute_input": "2025-02-09T07:18:00.955007Z",
          "iopub.status.busy": "2025-02-09T07:18:00.954711Z",
          "iopub.status.idle": "2025-02-09T07:18:05.554343Z",
          "shell.execute_reply": "2025-02-09T07:18:05.553626Z",
          "shell.execute_reply.started": "2025-02-09T07:18:00.954983Z"
        },
        "trusted": true,
        "id": "IX_exFTcc1iR",
        "outputId": "aada26d4-2fee-482a-81b4-82101bfa9c68"
      },
      "outputs": [
        {
          "name": "stdout",
          "output_type": "stream",
          "text": [
            "Collecting evaluate\n",
            "  Downloading evaluate-0.4.3-py3-none-any.whl.metadata (9.2 kB)\n",
            "Requirement already satisfied: datasets>=2.0.0 in /usr/local/lib/python3.10/dist-packages (from evaluate) (3.2.0)\n",
            "Requirement already satisfied: numpy>=1.17 in /usr/local/lib/python3.10/dist-packages (from evaluate) (1.26.4)\n",
            "Requirement already satisfied: dill in /usr/local/lib/python3.10/dist-packages (from evaluate) (0.3.8)\n",
            "Requirement already satisfied: pandas in /usr/local/lib/python3.10/dist-packages (from evaluate) (2.2.3)\n",
            "Requirement already satisfied: requests>=2.19.0 in /usr/local/lib/python3.10/dist-packages (from evaluate) (2.32.3)\n",
            "Requirement already satisfied: tqdm>=4.62.1 in /usr/local/lib/python3.10/dist-packages (from evaluate) (4.67.1)\n",
            "Requirement already satisfied: xxhash in /usr/local/lib/python3.10/dist-packages (from evaluate) (3.5.0)\n",
            "Requirement already satisfied: multiprocess in /usr/local/lib/python3.10/dist-packages (from evaluate) (0.70.16)\n",
            "Requirement already satisfied: fsspec>=2021.05.0 in /usr/local/lib/python3.10/dist-packages (from fsspec[http]>=2021.05.0->evaluate) (2024.9.0)\n",
            "Requirement already satisfied: huggingface-hub>=0.7.0 in /usr/local/lib/python3.10/dist-packages (from evaluate) (0.28.1)\n",
            "Requirement already satisfied: packaging in /usr/local/lib/python3.10/dist-packages (from evaluate) (24.2)\n",
            "Requirement already satisfied: filelock in /usr/local/lib/python3.10/dist-packages (from datasets>=2.0.0->evaluate) (3.17.0)\n",
            "Requirement already satisfied: pyarrow>=15.0.0 in /usr/local/lib/python3.10/dist-packages (from datasets>=2.0.0->evaluate) (19.0.0)\n",
            "Requirement already satisfied: aiohttp in /usr/local/lib/python3.10/dist-packages (from datasets>=2.0.0->evaluate) (3.11.11)\n",
            "Requirement already satisfied: pyyaml>=5.1 in /usr/local/lib/python3.10/dist-packages (from datasets>=2.0.0->evaluate) (6.0.2)\n",
            "Requirement already satisfied: typing-extensions>=3.7.4.3 in /usr/local/lib/python3.10/dist-packages (from huggingface-hub>=0.7.0->evaluate) (4.12.2)\n",
            "Requirement already satisfied: mkl_fft in /usr/local/lib/python3.10/dist-packages (from numpy>=1.17->evaluate) (1.3.8)\n",
            "Requirement already satisfied: mkl_random in /usr/local/lib/python3.10/dist-packages (from numpy>=1.17->evaluate) (1.2.4)\n",
            "Requirement already satisfied: mkl_umath in /usr/local/lib/python3.10/dist-packages (from numpy>=1.17->evaluate) (0.1.1)\n",
            "Requirement already satisfied: mkl in /usr/local/lib/python3.10/dist-packages (from numpy>=1.17->evaluate) (2025.0.1)\n",
            "Requirement already satisfied: tbb4py in /usr/local/lib/python3.10/dist-packages (from numpy>=1.17->evaluate) (2022.0.0)\n",
            "Requirement already satisfied: mkl-service in /usr/local/lib/python3.10/dist-packages (from numpy>=1.17->evaluate) (2.4.1)\n",
            "Requirement already satisfied: charset-normalizer<4,>=2 in /usr/local/lib/python3.10/dist-packages (from requests>=2.19.0->evaluate) (3.4.1)\n",
            "Requirement already satisfied: idna<4,>=2.5 in /usr/local/lib/python3.10/dist-packages (from requests>=2.19.0->evaluate) (3.10)\n",
            "Requirement already satisfied: urllib3<3,>=1.21.1 in /usr/local/lib/python3.10/dist-packages (from requests>=2.19.0->evaluate) (2.3.0)\n",
            "Requirement already satisfied: certifi>=2017.4.17 in /usr/local/lib/python3.10/dist-packages (from requests>=2.19.0->evaluate) (2025.1.31)\n",
            "Requirement already satisfied: python-dateutil>=2.8.2 in /usr/local/lib/python3.10/dist-packages (from pandas->evaluate) (2.9.0.post0)\n",
            "Requirement already satisfied: pytz>=2020.1 in /usr/local/lib/python3.10/dist-packages (from pandas->evaluate) (2025.1)\n",
            "Requirement already satisfied: tzdata>=2022.7 in /usr/local/lib/python3.10/dist-packages (from pandas->evaluate) (2025.1)\n",
            "Requirement already satisfied: aiohappyeyeballs>=2.3.0 in /usr/local/lib/python3.10/dist-packages (from aiohttp->datasets>=2.0.0->evaluate) (2.4.4)\n",
            "Requirement already satisfied: aiosignal>=1.1.2 in /usr/local/lib/python3.10/dist-packages (from aiohttp->datasets>=2.0.0->evaluate) (1.3.2)\n",
            "Requirement already satisfied: async-timeout<6.0,>=4.0 in /usr/local/lib/python3.10/dist-packages (from aiohttp->datasets>=2.0.0->evaluate) (5.0.1)\n",
            "Requirement already satisfied: attrs>=17.3.0 in /usr/local/lib/python3.10/dist-packages (from aiohttp->datasets>=2.0.0->evaluate) (25.1.0)\n",
            "Requirement already satisfied: frozenlist>=1.1.1 in /usr/local/lib/python3.10/dist-packages (from aiohttp->datasets>=2.0.0->evaluate) (1.5.0)\n",
            "Requirement already satisfied: multidict<7.0,>=4.5 in /usr/local/lib/python3.10/dist-packages (from aiohttp->datasets>=2.0.0->evaluate) (6.1.0)\n",
            "Requirement already satisfied: propcache>=0.2.0 in /usr/local/lib/python3.10/dist-packages (from aiohttp->datasets>=2.0.0->evaluate) (0.2.1)\n",
            "Requirement already satisfied: yarl<2.0,>=1.17.0 in /usr/local/lib/python3.10/dist-packages (from aiohttp->datasets>=2.0.0->evaluate) (1.18.3)\n",
            "Requirement already satisfied: six>=1.5 in /usr/local/lib/python3.10/dist-packages (from python-dateutil>=2.8.2->pandas->evaluate) (1.17.0)\n",
            "Requirement already satisfied: intel-openmp>=2024 in /usr/local/lib/python3.10/dist-packages (from mkl->numpy>=1.17->evaluate) (2024.2.0)\n",
            "Requirement already satisfied: tbb==2022.* in /usr/local/lib/python3.10/dist-packages (from mkl->numpy>=1.17->evaluate) (2022.0.0)\n",
            "Requirement already satisfied: tcmlib==1.* in /usr/local/lib/python3.10/dist-packages (from tbb==2022.*->mkl->numpy>=1.17->evaluate) (1.2.0)\n",
            "Requirement already satisfied: intel-cmplr-lib-rt in /usr/local/lib/python3.10/dist-packages (from mkl_umath->numpy>=1.17->evaluate) (2024.2.0)\n",
            "Requirement already satisfied: intel-cmplr-lib-ur==2024.2.0 in /usr/local/lib/python3.10/dist-packages (from intel-openmp>=2024->mkl->numpy>=1.17->evaluate) (2024.2.0)\n",
            "Downloading evaluate-0.4.3-py3-none-any.whl (84 kB)\n",
            "\u001b[2K   \u001b[90m━━━━━━━━━━━━━━━━━━━━━━━━━━━━━━━━━━━━━━━━\u001b[0m \u001b[32m84.0/84.0 kB\u001b[0m \u001b[31m2.9 MB/s\u001b[0m eta \u001b[36m0:00:00\u001b[0m\n",
            "\u001b[?25hInstalling collected packages: evaluate\n",
            "Successfully installed evaluate-0.4.3\n"
          ]
        }
      ],
      "source": [
        "!pip install evaluate\n",
        "import evaluate"
      ]
    },
    {
      "cell_type": "markdown",
      "metadata": {
        "id": "TU0DV04Ac1iR"
      },
      "source": [
        "`eval_pred` is a tuple containing:\n",
        "- logits: The raw outputs from the model (before applying softmax).\n",
        "- labels: The true class labels.\n",
        "\n",
        "**Logits** are the raw, unnormalized scores that your model outputs before applying a softmax function to convert them into probabilities.\n",
        "\n",
        "Each row represents a prediction for a single input, and each column corresponds to a class.\n",
        "\n",
        "For example:\n",
        "\n",
        "Logits Sample: `[-1.8190521  1.8116069]`\n",
        "Class 0 score: -1.8190521\n",
        "Class 1 score: 1.8116069\n",
        "\n",
        "**Labels** Sample: `[1, 0, 1, 1, 0]` represents the true class labels for the corresponding predictions.\n",
        "\n",
        "1 means the correct class is Class 1.\n",
        "0 means the correct class is Class 0."
      ]
    },
    {
      "cell_type": "markdown",
      "metadata": {
        "id": "mLuSqyuec1iR"
      },
      "source": [
        "## This cell defines a function to compute evaluation metrics (accuracy) based on the model's predictions and true labels."
      ]
    },
    {
      "cell_type": "code",
      "execution_count": null,
      "metadata": {
        "execution": {
          "iopub.execute_input": "2025-02-09T07:18:13.771479Z",
          "iopub.status.busy": "2025-02-09T07:18:13.771121Z",
          "iopub.status.idle": "2025-02-09T07:18:13.776300Z",
          "shell.execute_reply": "2025-02-09T07:18:13.775366Z",
          "shell.execute_reply.started": "2025-02-09T07:18:13.771448Z"
        },
        "trusted": true,
        "id": "To6P1q5Gc1iR"
      },
      "outputs": [],
      "source": [
        "def compute_metrics(eval_pred):\n",
        "    logits, labels = eval_pred\n",
        "    predictions = np.argmax(logits, axis=-1) # Get Predicted Classes\n",
        "\n",
        "    # Debugging >> Print first few logits\n",
        "    print(f\"Logits Sample: {logits[:5]}\")\n",
        "    print(f\"Labels Sample: {labels[:5]}\")\n",
        "\n",
        "    accuracy = np.mean(predictions == labels)#creates a boolean array then  Calculates the proportion of correct predictions.\n",
        "    return {\"accuracy\": accuracy}"
      ]
    },
    {
      "cell_type": "code",
      "execution_count": null,
      "metadata": {
        "execution": {
          "iopub.execute_input": "2025-02-09T07:31:52.702475Z",
          "iopub.status.busy": "2025-02-09T07:31:52.702135Z",
          "iopub.status.idle": "2025-02-09T07:31:52.707452Z",
          "shell.execute_reply": "2025-02-09T07:31:52.706634Z",
          "shell.execute_reply.started": "2025-02-09T07:31:52.702442Z"
        },
        "trusted": true,
        "id": "4HKS22rjc1iS"
      },
      "outputs": [],
      "source": [
        "from sklearn.metrics import precision_recall_fscore_support\n",
        "\n",
        "def compute_metrics(eval_pred):\n",
        "    logits, labels = eval_pred\n",
        "    predictions = np.argmax(logits, axis=-1)\n",
        "\n",
        "    precision, recall, f1, _ = precision_recall_fscore_support(labels, predictions, average='weighted')\n",
        "\n",
        "    return {\n",
        "        \"accuracy\": np.mean(predictions == labels),\n",
        "        \"precision\": precision,\n",
        "        \"recall\": recall,\n",
        "        \"f1\": f1\n",
        "    }"
      ]
    },
    {
      "cell_type": "markdown",
      "metadata": {
        "id": "s8MnZ5mqc1iS"
      },
      "source": [
        "## يتم في هذه الخلية إنشاء مجموعة فرعية أصغر من مجموعة بيانات التقييم لتقييم أسرع أثناء التدريب"
      ]
    },
    {
      "cell_type": "code",
      "execution_count": null,
      "metadata": {
        "execution": {
          "iopub.execute_input": "2025-02-09T07:18:45.751973Z",
          "iopub.status.busy": "2025-02-09T07:18:45.751664Z",
          "iopub.status.idle": "2025-02-09T07:18:45.772902Z",
          "shell.execute_reply": "2025-02-09T07:18:45.772312Z",
          "shell.execute_reply.started": "2025-02-09T07:18:45.751948Z"
        },
        "trusted": true,
        "id": "Aa2bKGJtc1iS"
      },
      "outputs": [],
      "source": [
        "subset_size = int(len( seq_clf_tokenized[\"test\"])/2)\n",
        "\n",
        "# Select a random subset of the evaluation dataset\n",
        "eval_subset = seq_clf_tokenized[\"test\"].shuffle(seed=42).select(range(subset_size))"
      ]
    },
    {
      "cell_type": "code",
      "execution_count": null,
      "metadata": {
        "trusted": true,
        "id": "TUYq5zyUc1iS"
      },
      "outputs": [],
      "source": []
    },
    {
      "cell_type": "code",
      "execution_count": null,
      "metadata": {
        "_kg_hide-input": false,
        "collapsed": true,
        "execution": {
          "iopub.execute_input": "2025-02-09T04:59:27.267084Z",
          "iopub.status.busy": "2025-02-09T04:59:27.266761Z",
          "iopub.status.idle": "2025-02-09T05:35:57.531180Z",
          "shell.execute_reply": "2025-02-09T05:35:57.528916Z",
          "shell.execute_reply.started": "2025-02-09T04:59:27.267051Z"
        },
        "jupyter": {
          "outputs_hidden": true,
          "source_hidden": true
        },
        "trusted": true,
        "id": "aoLzqnIGc1iS"
      },
      "outputs": [],
      "source": [
        "## Define training arguments\n",
        "# -----------------------\n",
        "epochs = 1 #the number of epochs\n",
        "training_args = TrainingArguments(\n",
        "    output_dir=\"./clf/results\",\n",
        "    num_train_epochs=epochs,\n",
        "    per_device_train_batch_size=32,\n",
        "    per_device_eval_batch_size=32,\n",
        "    load_best_model_at_end=True,c\n",
        "    weight_decay=0.05,\n",
        "    logging_steps=5,\n",
        "    log_level='info',\n",
        "    evaluation_strategy='steps',\n",
        "    save_strategy='steps',\n",
        "    eval_steps=5,  # Evaluate every 5 steps\n",
        "    save_steps=500,  # Save every 500 steps\n",
        "    fp16=True,\n",
        "    report_to=\"none\"  # Disable WandB logging\n",
        ")\n",
        "\n",
        "# Define trainer يتم تحديد كل التوبيكس ومن ثم بدء عملية التدريب\n",
        "trainer = Trainer(\n",
        "    model=sequence_clf_model,\n",
        "    args=training_args,\n",
        "    train_dataset=seq_clf_tokenized[\"train\"],\n",
        "    eval_dataset=eval_subset,\n",
        "    data_collator=data_collator,\n",
        "    compute_metrics=compute_metrics\n",
        ")\n",
        "# Train the model\n",
        "trainer.train()"
      ]
    },
    {
      "cell_type": "code",
      "execution_count": null,
      "metadata": {
        "execution": {
          "iopub.execute_input": "2025-02-09T07:31:56.758930Z",
          "iopub.status.busy": "2025-02-09T07:31:56.758632Z",
          "iopub.status.idle": "2025-02-09T08:14:00.102080Z",
          "shell.execute_reply": "2025-02-09T08:14:00.101388Z",
          "shell.execute_reply.started": "2025-02-09T07:31:56.758906Z"
        },
        "trusted": true,
        "id": "sCvl37AJc1iT",
        "outputId": "deae84fa-bbf8-41b2-862d-cc6c1ff7561a"
      },
      "outputs": [
        {
          "name": "stderr",
          "output_type": "stream",
          "text": [
            "/usr/local/lib/python3.10/dist-packages/transformers/training_args.py:1575: FutureWarning: `evaluation_strategy` is deprecated and will be removed in version 4.46 of 🤗 Transformers. Use `eval_strategy` instead\n",
            "  warnings.warn(\n",
            "PyTorch: setting up devices\n",
            "Using auto half precision backend\n",
            "The following columns in the training set don't have a corresponding argument in `BertForSequenceClassification.forward` and have been ignored: content. If content are not expected by `BertForSequenceClassification.forward`,  you can safely ignore this message.\n",
            "***** Running training *****\n",
            "  Num examples = 115,500\n",
            "  Num Epochs = 1\n",
            "  Instantaneous batch size per device = 32\n",
            "  Training with DataParallel so batch size has been adjusted to: 64\n",
            "  Total train batch size (w. parallel, distributed & accumulation) = 64\n",
            "  Gradient Accumulation steps = 1\n",
            "  Total optimization steps = 1,805\n",
            "  Number of trainable parameters = 110,618,882\n",
            "/usr/local/lib/python3.10/dist-packages/torch/nn/parallel/_functions.py:71: UserWarning: Was asked to gather along dimension 0, but all input tensors were scalars; will instead unsqueeze and return a vector.\n",
            "  warnings.warn(\n"
          ]
        },
        {
          "data": {
            "text/html": [
              "\n",
              "    <div>\n",
              "      \n",
              "      <progress value='1805' max='1805' style='width:300px; height:20px; vertical-align: middle;'></progress>\n",
              "      [1805/1805 42:01, Epoch 1/1]\n",
              "    </div>\n",
              "    <table border=\"1\" class=\"dataframe\">\n",
              "  <thead>\n",
              " <tr style=\"text-align: left;\">\n",
              "      <th>Step</th>\n",
              "      <th>Training Loss</th>\n",
              "      <th>Validation Loss</th>\n",
              "      <th>Accuracy</th>\n",
              "      <th>Precision</th>\n",
              "      <th>Recall</th>\n",
              "      <th>F1</th>\n",
              "    </tr>\n",
              "  </thead>\n",
              "  <tbody>\n",
              "    <tr>\n",
              "      <td>500</td>\n",
              "      <td>0.223600</td>\n",
              "      <td>0.261182</td>\n",
              "      <td>0.911030</td>\n",
              "      <td>0.911540</td>\n",
              "      <td>0.911030</td>\n",
              "      <td>0.911010</td>\n",
              "    </tr>\n",
              "    <tr>\n",
              "      <td>1000</td>\n",
              "      <td>0.222600</td>\n",
              "      <td>0.195728</td>\n",
              "      <td>0.922384</td>\n",
              "      <td>0.924267</td>\n",
              "      <td>0.922384</td>\n",
              "      <td>0.922286</td>\n",
              "    </tr>\n",
              "    <tr>\n",
              "      <td>1500</td>\n",
              "      <td>0.179900</td>\n",
              "      <td>0.174590</td>\n",
              "      <td>0.931596</td>\n",
              "      <td>0.931797</td>\n",
              "      <td>0.931596</td>\n",
              "      <td>0.931591</td>\n",
              "    </tr>\n",
              "  </tbody>\n",
              "</table><p>"
            ],
            "text/plain": [
              "<IPython.core.display.HTML object>"
            ]
          },
          "metadata": {},
          "output_type": "display_data"
        },
        {
          "name": "stderr",
          "output_type": "stream",
          "text": [
            "The following columns in the evaluation set don't have a corresponding argument in `BertForSequenceClassification.forward` and have been ignored: content. If content are not expected by `BertForSequenceClassification.forward`,  you can safely ignore this message.\n",
            "\n",
            "***** Running Evaluation *****\n",
            "  Num examples = 24750\n",
            "  Batch size = 64\n",
            "Saving model checkpoint to ./clf/results/checkpoint-500\n",
            "Configuration saved in ./clf/results/checkpoint-500/config.json\n",
            "Model weights saved in ./clf/results/checkpoint-500/model.safetensors\n",
            "/usr/local/lib/python3.10/dist-packages/torch/nn/parallel/_functions.py:71: UserWarning: Was asked to gather along dimension 0, but all input tensors were scalars; will instead unsqueeze and return a vector.\n",
            "  warnings.warn(\n",
            "The following columns in the evaluation set don't have a corresponding argument in `BertForSequenceClassification.forward` and have been ignored: content. If content are not expected by `BertForSequenceClassification.forward`,  you can safely ignore this message.\n",
            "\n",
            "***** Running Evaluation *****\n",
            "  Num examples = 24750\n",
            "  Batch size = 64\n",
            "Saving model checkpoint to ./clf/results/checkpoint-1000\n",
            "Configuration saved in ./clf/results/checkpoint-1000/config.json\n",
            "Model weights saved in ./clf/results/checkpoint-1000/model.safetensors\n",
            "/usr/local/lib/python3.10/dist-packages/torch/nn/parallel/_functions.py:71: UserWarning: Was asked to gather along dimension 0, but all input tensors were scalars; will instead unsqueeze and return a vector.\n",
            "  warnings.warn(\n",
            "The following columns in the evaluation set don't have a corresponding argument in `BertForSequenceClassification.forward` and have been ignored: content. If content are not expected by `BertForSequenceClassification.forward`,  you can safely ignore this message.\n",
            "\n",
            "***** Running Evaluation *****\n",
            "  Num examples = 24750\n",
            "  Batch size = 64\n",
            "Saving model checkpoint to ./clf/results/checkpoint-1500\n",
            "Configuration saved in ./clf/results/checkpoint-1500/config.json\n",
            "Model weights saved in ./clf/results/checkpoint-1500/model.safetensors\n",
            "/usr/local/lib/python3.10/dist-packages/torch/nn/parallel/_functions.py:71: UserWarning: Was asked to gather along dimension 0, but all input tensors were scalars; will instead unsqueeze and return a vector.\n",
            "  warnings.warn(\n",
            "Saving model checkpoint to ./clf/results/checkpoint-1805\n",
            "Configuration saved in ./clf/results/checkpoint-1805/config.json\n",
            "Model weights saved in ./clf/results/checkpoint-1805/model.safetensors\n",
            "\n",
            "\n",
            "Training completed. Do not forget to share your model on huggingface.co/models =)\n",
            "\n",
            "\n",
            "Loading best model from ./clf/results/checkpoint-1500 (score: 0.17458979785442352).\n"
          ]
        },
        {
          "data": {
            "text/plain": [
              "TrainOutput(global_step=1805, training_loss=0.1709752635240885, metrics={'train_runtime': 2522.4422, 'train_samples_per_second': 45.789, 'train_steps_per_second': 0.716, 'total_flos': 1.030837048240608e+16, 'train_loss': 0.1709752635240885, 'epoch': 1.0})"
            ]
          },
          "execution_count": 16,
          "metadata": {},
          "output_type": "execute_result"
        }
      ],
      "source": [
        "## Define training arguments\n",
        "# -----------------------\n",
        "epochs = 1\n",
        "training_args = TrainingArguments(\n",
        "    output_dir=\"./clf/results\",\n",
        "    num_train_epochs=epochs,\n",
        "    per_device_train_batch_size=32,\n",
        "    per_device_eval_batch_size=32,\n",
        "    load_best_model_at_end=True,\n",
        "    weight_decay=0.05,\n",
        "    logging_steps=5,#1 step = single update of the  parameters\n",
        "    log_level='info',\n",
        "    evaluation_strategy='steps',\n",
        "    save_strategy='steps',\n",
        "    eval_steps=500,  # Evaluate every 500 steps\n",
        "    save_steps=500,  # Save every 500 steps\n",
        "    fp16=True,\n",
        "    report_to=\"none\"  # Disable WandB logging\n",
        ")\n",
        "\n",
        "# Define trainer\n",
        "trainer = Trainer(\n",
        "    model=sequence_clf_model,\n",
        "    args=training_args,\n",
        "    train_dataset=seq_clf_tokenized[\"train\"],\n",
        "    eval_dataset=eval_subset,\n",
        "    data_collator=data_collator,\n",
        "    compute_metrics=compute_metrics\n",
        ")\n",
        "# Train the model\n",
        "trainer.train()"
      ]
    },
    {
      "cell_type": "markdown",
      "metadata": {
        "id": "qWPzXzlWc1iT"
      },
      "source": [
        "## فيما يلي  يتم في هذه الخلايا تحميل أفضل نقطة تحقق للنموذج التي تم حفظها أثناء التدريب"
      ]
    },
    {
      "cell_type": "code",
      "execution_count": null,
      "metadata": {
        "execution": {
          "iopub.execute_input": "2025-02-09T08:21:49.686328Z",
          "iopub.status.busy": "2025-02-09T08:21:49.685529Z",
          "iopub.status.idle": "2025-02-09T08:21:49.690080Z",
          "shell.execute_reply": "2025-02-09T08:21:49.689160Z",
          "shell.execute_reply.started": "2025-02-09T08:21:49.686295Z"
        },
        "trusted": true,
        "id": "0AF30iZFc1iT"
      },
      "outputs": [],
      "source": [
        "from transformers import AutoModelForSequenceClassification"
      ]
    },
    {
      "cell_type": "code",
      "execution_count": null,
      "metadata": {
        "execution": {
          "iopub.execute_input": "2025-02-09T08:22:52.745380Z",
          "iopub.status.busy": "2025-02-09T08:22:52.745005Z",
          "iopub.status.idle": "2025-02-09T08:22:52.748742Z",
          "shell.execute_reply": "2025-02-09T08:22:52.747956Z",
          "shell.execute_reply.started": "2025-02-09T08:22:52.745349Z"
        },
        "trusted": true,
        "id": "N98fVzlUc1iT"
      },
      "outputs": [],
      "source": []
    },
    {
      "cell_type": "code",
      "execution_count": null,
      "metadata": {
        "execution": {
          "iopub.execute_input": "2025-02-09T08:23:51.344436Z",
          "iopub.status.busy": "2025-02-09T08:23:51.344098Z",
          "iopub.status.idle": "2025-02-09T08:23:51.414034Z",
          "shell.execute_reply": "2025-02-09T08:23:51.413202Z",
          "shell.execute_reply.started": "2025-02-09T08:23:51.344407Z"
        },
        "trusted": true,
        "id": "NN7xK6R2c1iT",
        "outputId": "75a193cd-f4b5-4704-c147-d4b0d513cd73"
      },
      "outputs": [
        {
          "name": "stderr",
          "output_type": "stream",
          "text": [
            "loading configuration file ./clf/results/checkpoint-1500/config.json\n",
            "Model config BertConfig {\n",
            "  \"_name_or_path\": \"./clf/results/checkpoint-1500\",\n",
            "  \"architectures\": [\n",
            "    \"BertForSequenceClassification\"\n",
            "  ],\n",
            "  \"attention_probs_dropout_prob\": 0.1,\n",
            "  \"classifier_dropout\": null,\n",
            "  \"gradient_checkpointing\": false,\n",
            "  \"hidden_act\": \"gelu\",\n",
            "  \"hidden_dropout_prob\": 0.1,\n",
            "  \"hidden_size\": 768,\n",
            "  \"initializer_range\": 0.02,\n",
            "  \"intermediate_size\": 3072,\n",
            "  \"layer_norm_eps\": 1e-12,\n",
            "  \"max_position_embeddings\": 512,\n",
            "  \"model_type\": \"bert\",\n",
            "  \"num_attention_heads\": 12,\n",
            "  \"num_hidden_layers\": 12,\n",
            "  \"output_past\": true,\n",
            "  \"pad_token_id\": 0,\n",
            "  \"position_embedding_type\": \"absolute\",\n",
            "  \"problem_type\": \"single_label_classification\",\n",
            "  \"torch_dtype\": \"float32\",\n",
            "  \"transformers_version\": \"4.47.0\",\n",
            "  \"type_vocab_size\": 2,\n",
            "  \"use_cache\": true,\n",
            "  \"vocab_size\": 32000\n",
            "}\n",
            "\n",
            "loading weights file ./clf/results/checkpoint-1500/model.safetensors\n",
            "All model checkpoint weights were used when initializing BertForSequenceClassification.\n",
            "\n",
            "All the weights of BertForSequenceClassification were initialized from the model checkpoint at ./clf/results/checkpoint-1500.\n",
            "If your task is similar to the task the model of the checkpoint was trained on, you can already use BertForSequenceClassification for predictions without further training.\n"
          ]
        }
      ],
      "source": [
        "best_model = trainer.model\n",
        "\n",
        "best_model_path = \"./clf/results/checkpoint-1500\"  # the best checkpoint\n",
        "best_model = AutoModelForSequenceClassification.from_pretrained(best_model_path)\n"
      ]
    },
    {
      "cell_type": "code",
      "execution_count": null,
      "metadata": {
        "execution": {
          "iopub.execute_input": "2025-02-09T08:24:08.235296Z",
          "iopub.status.busy": "2025-02-09T08:24:08.234945Z",
          "iopub.status.idle": "2025-02-09T08:29:21.708150Z",
          "shell.execute_reply": "2025-02-09T08:29:21.707264Z",
          "shell.execute_reply.started": "2025-02-09T08:24:08.235251Z"
        },
        "trusted": true,
        "id": "yAT1Mtync1iU",
        "outputId": "ce675b4d-e035-4fcd-f07e-5f42ddbce09e"
      },
      "outputs": [
        {
          "name": "stderr",
          "output_type": "stream",
          "text": [
            "The following columns in the evaluation set don't have a corresponding argument in `BertForSequenceClassification.forward` and have been ignored: content. If content are not expected by `BertForSequenceClassification.forward`,  you can safely ignore this message.\n",
            "\n",
            "***** Running Evaluation *****\n",
            "  Num examples = 49500\n",
            "  Batch size = 64\n",
            "/usr/local/lib/python3.10/dist-packages/torch/nn/parallel/_functions.py:71: UserWarning: Was asked to gather along dimension 0, but all input tensors were scalars; will instead unsqueeze and return a vector.\n",
            "  warnings.warn(\n"
          ]
        },
        {
          "data": {
            "text/html": [
              "\n",
              "    <div>\n",
              "      \n",
              "      <progress value='774' max='774' style='width:300px; height:20px; vertical-align: middle;'></progress>\n",
              "      [774/774 05:12]\n",
              "    </div>\n",
              "    "
            ],
            "text/plain": [
              "<IPython.core.display.HTML object>"
            ]
          },
          "metadata": {},
          "output_type": "display_data"
        },
        {
          "data": {
            "text/plain": [
              "{'eval_loss': 0.17154347896575928,\n",
              " 'eval_accuracy': 0.933010101010101,\n",
              " 'eval_precision': 0.9331713932932488,\n",
              " 'eval_recall': 0.933010101010101,\n",
              " 'eval_f1': 0.933005893963128,\n",
              " 'eval_runtime': 313.4636,\n",
              " 'eval_samples_per_second': 157.913,\n",
              " 'eval_steps_per_second': 2.469,\n",
              " 'epoch': 1.0}"
            ]
          },
          "execution_count": 26,
          "metadata": {},
          "output_type": "execute_result"
        }
      ],
      "source": [
        "# Run evaluation on test dataset explicitly\n",
        "test_results = trainer.evaluate(eval_dataset=seq_clf_tokenized[\"test\"])\n",
        "\n",
        "test_results"
      ]
    },
    {
      "cell_type": "code",
      "execution_count": null,
      "metadata": {
        "trusted": true,
        "id": "s3zQ0aR0c1iU"
      },
      "outputs": [],
      "source": []
    }
  ],
  "metadata": {
    "kaggle": {
      "accelerator": "nvidiaTeslaT4",
      "dataSources": [
        {
          "datasetId": 5577640,
          "sourceId": 9222859,
          "sourceType": "datasetVersion"
        }
      ],
      "dockerImageVersionId": 30887,
      "isGpuEnabled": true,
      "isInternetEnabled": true,
      "language": "python",
      "sourceType": "notebook"
    },
    "kernelspec": {
      "display_name": "Python 3",
      "language": "python",
      "name": "python3"
    },
    "language_info": {
      "codemirror_mode": {
        "name": "ipython",
        "version": 3
      },
      "file_extension": ".py",
      "mimetype": "text/x-python",
      "name": "python",
      "nbconvert_exporter": "python",
      "pygments_lexer": "ipython3",
      "version": "3.10.12"
    },
    "colab": {
      "provenance": []
    }
  },
  "nbformat": 4,
  "nbformat_minor": 0
}